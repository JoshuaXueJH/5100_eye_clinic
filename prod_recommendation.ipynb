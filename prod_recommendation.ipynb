{
 "cells": [
  {
   "cell_type": "code",
   "execution_count": null,
   "id": "033e9ced",
   "metadata": {},
   "outputs": [],
   "source": [
    "import numpy as np\n",
    "import pandas as pd\n",
    "import os\n",
    "import re\n",
    "import tensorflow as tf\n",
    "from threading import Thread\n",
    "import time\n",
    "from tqdm import tqdm\n",
    "import matplotlib.pyplot as plt\n",
    "import plotly.express as px\n",
    "from plotly.offline import init_notebook_mode\n",
    "from tensorflow.keras.preprocessing.image import ImageDataGenerator, load_img, img_to_array\n",
    "from tensorflow.keras.preprocessing.text import Tokenizer\n",
    "from tensorflow.keras.preprocessing.sequence import pad_sequences\n",
    "from tensorflow.keras.utils import Sequence\n",
    "from tensorflow.keras.utils import to_categorical\n",
    "from tensorflow.keras.models import Sequential, Model\n",
    "from tensorflow.keras.layers import Conv2D, MaxPooling2D, GlobalAveragePooling2D, Activation, Dropout, Flatten, Dense, Input, Layer\n",
    "from tensorflow.keras.applications import VGG16, ResNet50, DenseNet201, Xception\n",
    "from tensorflow.keras.optimizers import Adam\n",
    "from tensorflow.keras.utils import plot_model\n",
    "from tensorflow.keras.callbacks import ModelCheckpoint, EarlyStopping, ReduceLROnPlateau\n",
    "\n",
    "init_notebook_mode(connected=True)"
   ]
  },
  {
   "cell_type": "markdown",
   "id": "7a3a8f02",
   "metadata": {},
   "source": [
    "# Images Dataframe"
   ]
  },
  {
   "cell_type": "code",
   "execution_count": null,
   "id": "c38d19ba",
   "metadata": {},
   "outputs": [],
   "source": [
    "images_df = pd.read_csv(\"../fashion-dataset/images.csv\")"
   ]
  },
  {
   "cell_type": "markdown",
   "id": "0fd49055",
   "metadata": {},
   "source": [
    "# Product Data Dataframe"
   ]
  },
  {
   "cell_type": "code",
   "execution_count": null,
   "id": "d52557dc",
   "metadata": {},
   "outputs": [],
   "source": [
    "styles_df = pd.read_csv(\"../fashion-dataset/styles.csv\", on_bad_lines='skip')"
   ]
  },
  {
   "cell_type": "markdown",
   "id": "a1f9de62",
   "metadata": {},
   "source": [
    "# Create ID in both Dataframes"
   ]
  },
  {
   "cell_type": "code",
   "execution_count": null,
   "id": "1bf722e7",
   "metadata": {},
   "outputs": [],
   "source": [
    "images_df['id'] = images_df['filename'].apply(lambda x: x.replace(\".jpg\",\"\")).astype(int)"
   ]
  },
  {
   "cell_type": "code",
   "execution_count": null,
   "id": "3e363b85",
   "metadata": {},
   "outputs": [],
   "source": [
    "images_df"
   ]
  },
  {
   "cell_type": "markdown",
   "id": "bffc7972",
   "metadata": {},
   "source": [
    "# Merging the Two Dataframes"
   ]
  },
  {
   "cell_type": "code",
   "execution_count": null,
   "id": "3b8ac9a3",
   "metadata": {},
   "outputs": [],
   "source": [
    "data = styles_df.merge(images_df,on='id',how='left').reset_index(drop=True)\n",
    "data['filename'] = data['filename'].apply(lambda x: os.path.join(\"../fashion-dataset/images/\",x))"
   ]
  },
  {
   "cell_type": "code",
   "execution_count": null,
   "id": "8dcfe72e",
   "metadata": {},
   "outputs": [],
   "source": [
    "image_files = os.listdir(\"../fashion-dataset/images\")"
   ]
  },
  {
   "cell_type": "markdown",
   "id": "ac100efa",
   "metadata": {},
   "source": [
    "# Removing Products for which images are not present"
   ]
  },
  {
   "cell_type": "code",
   "execution_count": null,
   "id": "0aed29c0",
   "metadata": {},
   "outputs": [],
   "source": [
    "data['file_found'] = data['id'].apply(lambda x: f\"{x}.jpg\" in image_files)"
   ]
  },
  {
   "cell_type": "code",
   "execution_count": null,
   "id": "c2e5c8d3",
   "metadata": {},
   "outputs": [],
   "source": [
    "data['file_found'] = data['id'].apply(lambda x: f\"{x}.jpg\" in image_files)"
   ]
  },
  {
   "cell_type": "markdown",
   "id": "f060acb2",
   "metadata": {},
   "source": [
    "# Final Data"
   ]
  },
  {
   "cell_type": "code",
   "execution_count": null,
   "id": "79a7ae20",
   "metadata": {},
   "outputs": [],
   "source": [
    "data.head()"
   ]
  },
  {
   "cell_type": "markdown",
   "id": "e14424f8",
   "metadata": {},
   "source": [
    "# Checking for Null Values"
   ]
  },
  {
   "cell_type": "code",
   "execution_count": null,
   "id": "9a02d521",
   "metadata": {},
   "outputs": [],
   "source": [
    "data.isnull().sum()"
   ]
  },
  {
   "cell_type": "code",
   "execution_count": null,
   "id": "17d64bf6",
   "metadata": {},
   "outputs": [],
   "source": []
  }
 ],
 "metadata": {
  "kernelspec": {
   "display_name": "Python 3 (ipykernel)",
   "language": "python",
   "name": "python3"
  },
  "language_info": {
   "codemirror_mode": {
    "name": "ipython",
    "version": 3
   },
   "file_extension": ".py",
   "mimetype": "text/x-python",
   "name": "python",
   "nbconvert_exporter": "python",
   "pygments_lexer": "ipython3",
   "version": "3.9.12"
  }
 },
 "nbformat": 4,
 "nbformat_minor": 5
}
